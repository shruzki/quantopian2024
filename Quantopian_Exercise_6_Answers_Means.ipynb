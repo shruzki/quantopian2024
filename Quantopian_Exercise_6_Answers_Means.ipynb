{
  "cells": [
    {
      "cell_type": "markdown",
      "metadata": {
        "id": "view-in-github",
        "colab_type": "text"
      },
      "source": [
        "<a href=\"https://colab.research.google.com/github/shruzki/quantopian2024/blob/main/Quantopian_Exercise_6_Answers_Means.ipynb\" target=\"_parent\"><img src=\"https://colab.research.google.com/assets/colab-badge.svg\" alt=\"Open In Colab\"/></a>"
      ]
    },
    {
      "cell_type": "markdown",
      "metadata": {
        "id": "5rk_TXt5sgd_"
      },
      "source": [
        "# Exercises: Means\n",
        "By Christopher van Hoecke and Max Margenot\n",
        "\n",
        "## Lecture Link :\n",
        "https://www.quantopian.com/lectures/means\n",
        "\n",
        "### IMPORTANT NOTE:\n",
        "This lecture corresponds to the Means lecture, which is part of the Quantopian lecture series. This homework expects you to rely heavily on the code presented in the corresponding lecture. Please copy and paste regularly from that lecture when starting to work on the problems, as trying to do them from scratch will likely be too difficult.\n",
        "\n",
        "Part of the Quantopian Lecture Series:\n",
        "\n",
        "* [www.quantopian.com/lectures](https://www.quantopian.com/lectures)\n",
        "* [github.com/quantopian/research_public](https://github.com/quantopian/research_public)\n",
        "\n",
        "----"
      ]
    },
    {
      "cell_type": "markdown",
      "metadata": {
        "id": "MoAOKP-jsgeC"
      },
      "source": [
        "## Key Concepts"
      ]
    },
    {
      "cell_type": "code",
      "execution_count": 29,
      "metadata": {
        "id": "HyuOm7nasgeD"
      },
      "outputs": [],
      "source": [
        "# Useful Functions\n",
        "def mode(l):\n",
        "    # Count the number of times each element appears in the list\n",
        "    counts = {}\n",
        "    for e in l:\n",
        "        if e in counts:\n",
        "            counts[e] += 1\n",
        "        else:\n",
        "            counts[e] = 1\n",
        "\n",
        "    # Return the elements that appear the most times\n",
        "    maxcount = 0\n",
        "    modes = {}\n",
        "    for (key, value) in counts.items():\n",
        "        if value > maxcount:\n",
        "            maxcount = value\n",
        "            modes = {key}\n",
        "        elif value == maxcount:\n",
        "            modes.add(key)\n",
        "\n",
        "    if maxcount > 1 or len(l) == 1:\n",
        "        return list(modes)\n",
        "    return 'No mode'"
      ]
    },
    {
      "cell_type": "code",
      "execution_count": 30,
      "metadata": {
        "id": "JjyjTYBPsgeF"
      },
      "outputs": [],
      "source": [
        "# Useful Libraries\n",
        "import scipy.stats as stats\n",
        "import numpy as np\n",
        "import yfinance as yf"
      ]
    },
    {
      "cell_type": "markdown",
      "metadata": {
        "id": "r_Ph4LXKsgeG"
      },
      "source": [
        "#### Data:"
      ]
    },
    {
      "cell_type": "code",
      "execution_count": 31,
      "metadata": {
        "id": "sGRV0gxvsgeH"
      },
      "outputs": [],
      "source": [
        "l=[]\n",
        "for x in range(1,100):\n",
        "    x=np.random.randint(1,100)\n",
        "    l.append(x)"
      ]
    },
    {
      "cell_type": "markdown",
      "metadata": {
        "id": "Ax9y0YMisgeH"
      },
      "source": [
        "----"
      ]
    },
    {
      "cell_type": "markdown",
      "metadata": {
        "id": "PKOM8-dYsgeI"
      },
      "source": [
        "# Exercise 1 : Arithmetic mean.\n",
        "## a. Mean of random data set.\n",
        "Find the mean of the randomly generated data set `l`."
      ]
    },
    {
      "cell_type": "code",
      "execution_count": 32,
      "metadata": {
        "id": "I0JFb_H7sgeI",
        "colab": {
          "base_uri": "https://localhost:8080/"
        },
        "outputId": "fc4ed112-1749-4800-cbe4-1716f1b75f29"
      },
      "outputs": [
        {
          "output_type": "stream",
          "name": "stdout",
          "text": [
            "50.313131313131315\n"
          ]
        }
      ],
      "source": [
        "## Your code goes here\n",
        "print(np.mean(l))"
      ]
    },
    {
      "cell_type": "markdown",
      "metadata": {
        "id": "Jy9fD7XrsgeJ"
      },
      "source": [
        "## b. Mean of returns\n",
        "Find the mean of the returns of Iteris Inc. (ITI)."
      ]
    },
    {
      "cell_type": "code",
      "execution_count": 33,
      "metadata": {
        "id": "gYdFmSJ0sgeK",
        "colab": {
          "base_uri": "https://localhost:8080/"
        },
        "outputId": "620988de-9a2e-4e73-bfe2-5755ede72187"
      },
      "outputs": [
        {
          "output_type": "stream",
          "name": "stderr",
          "text": [
            "\r[*********************100%%**********************]  1 of 1 completed"
          ]
        },
        {
          "output_type": "stream",
          "name": "stdout",
          "text": [
            "-4.482282705837242e-05\n"
          ]
        },
        {
          "output_type": "stream",
          "name": "stderr",
          "text": [
            "\n"
          ]
        }
      ],
      "source": [
        "# price = get_pricing('ITI', fields='price', start_date='2005-01-01', end_date='2010-01-01')\n",
        "price = yf.download('ITI', start='2005-01-01', end='2010-01-01')['Adj Close']\n",
        "returns = price.pct_change()[1:]\n",
        "\n",
        "## Your code goes here.\n",
        "print(returns.mean())"
      ]
    },
    {
      "cell_type": "markdown",
      "metadata": {
        "id": "RRVwQ2RCsgeK"
      },
      "source": [
        "---"
      ]
    },
    {
      "cell_type": "markdown",
      "metadata": {
        "id": "nglvhSsesgeL"
      },
      "source": [
        "# Exercise 2 : Median\n",
        "## a. Median of random data set\n",
        "Find the median of the randomly generated data set `l`."
      ]
    },
    {
      "cell_type": "code",
      "execution_count": 34,
      "metadata": {
        "id": "vvE-rFbIsgeL",
        "colab": {
          "base_uri": "https://localhost:8080/"
        },
        "outputId": "71bd33cf-1cc5-4c98-88c1-1875e799e220"
      },
      "outputs": [
        {
          "output_type": "execute_result",
          "data": {
            "text/plain": [
              "54.0"
            ]
          },
          "metadata": {},
          "execution_count": 34
        }
      ],
      "source": [
        "## Your code goes here\n",
        "np.median(l)"
      ]
    },
    {
      "cell_type": "markdown",
      "metadata": {
        "id": "80clpJ-ssgeL"
      },
      "source": [
        "## b. Median of the returns.\n",
        "Find the median associated with the returns of Bank of America Corp. (BAC)."
      ]
    },
    {
      "cell_type": "code",
      "execution_count": 35,
      "metadata": {
        "id": "Yw1v7FVksgeL",
        "colab": {
          "base_uri": "https://localhost:8080/"
        },
        "outputId": "83f5e32c-cec7-4bfe-d5b4-a4c83a569503"
      },
      "outputs": [
        {
          "output_type": "stream",
          "name": "stderr",
          "text": [
            "\r[*********************100%%**********************]  1 of 1 completed\n"
          ]
        },
        {
          "output_type": "execute_result",
          "data": {
            "text/plain": [
              "-0.0005865275925384106"
            ]
          },
          "metadata": {},
          "execution_count": 35
        }
      ],
      "source": [
        "# price = get_pricing('BAC', fields='open_price', start_date='2005-01-01', end_date='2010-01-01')\n",
        "price = yf.download('BAC', start='2005-01-01', end='2010-01-01')['Open']\n",
        "returns = price.pct_change()[1:]\n",
        "\n",
        "## Your code goes here\n",
        "returns.median()"
      ]
    },
    {
      "cell_type": "markdown",
      "metadata": {
        "id": "26qsDTxesgeL"
      },
      "source": [
        "----"
      ]
    },
    {
      "cell_type": "markdown",
      "metadata": {
        "id": "-Z1xtbhmsgeL"
      },
      "source": [
        "# Exercise 3 : Mode\n",
        "## a. Mode of a random data set.\n",
        "Find the mode of the random generated data set `l`."
      ]
    },
    {
      "cell_type": "code",
      "execution_count": 36,
      "metadata": {
        "id": "KeFIspLxsgeL",
        "colab": {
          "base_uri": "https://localhost:8080/"
        },
        "outputId": "1ba12ba1-3463-4b27-f2be-19c42ee51e26"
      },
      "outputs": [
        {
          "output_type": "stream",
          "name": "stdout",
          "text": [
            "[2, 36, 78]\n"
          ]
        }
      ],
      "source": [
        "## Your code goes here\n",
        "print(mode(l))"
      ]
    },
    {
      "cell_type": "markdown",
      "metadata": {
        "id": "V9c7iLYXsgeM"
      },
      "source": [
        "## b. Mode of the returns.\n",
        "Find the mode associated with the returns of Goldman Sachs Corp. (GS). *Recall with returns, there may not be any values that appear more than once.*"
      ]
    },
    {
      "cell_type": "code",
      "execution_count": 37,
      "metadata": {
        "id": "scNf01NSsgeM",
        "colab": {
          "base_uri": "https://localhost:8080/"
        },
        "outputId": "1afba9b0-e18a-4189-a548-89728809bcf6"
      },
      "outputs": [
        {
          "output_type": "stream",
          "name": "stderr",
          "text": [
            "\r[*********************100%%**********************]  1 of 1 completed"
          ]
        },
        {
          "output_type": "stream",
          "name": "stdout",
          "text": [
            "\n",
            "No mode\n",
            "[(-0.0030381334783358797, 0.0001785862872386544), (0.0001785862872386544, 0.003395306052813185)] with frequency 39\n"
          ]
        },
        {
          "output_type": "stream",
          "name": "stderr",
          "text": [
            "\n"
          ]
        }
      ],
      "source": [
        "start = '2014-01-01'\n",
        "end = '2015-01-01'\n",
        "# pricing = get_pricing('GS', fields='price', start_date=start, end_date=end)\n",
        "pricing = yf.download('GS', start=start, end=end)['Adj Close']\n",
        "returns = pricing.pct_change()[1:]\n",
        "\n",
        "## Your code goes here\n",
        "print()\n",
        "print(mode(returns))\n",
        "\n",
        "hist, bins = np.histogram(returns, 20)\n",
        "maxfreq = max(hist)\n",
        "print([(bins[i], bins[i+1]) for i, j in enumerate(hist) if j == maxfreq], 'with frequency', maxfreq)"
      ]
    },
    {
      "cell_type": "markdown",
      "metadata": {
        "id": "AIyDJZs_sgeM"
      },
      "source": [
        "----"
      ]
    },
    {
      "cell_type": "markdown",
      "metadata": {
        "id": "ydRLgnPAsgeM"
      },
      "source": [
        "# Exercise 4 : Geometric mean\n",
        "## a. Geometric Mean of random data set.\n",
        "Find the Geometric mean of the random generated data set."
      ]
    },
    {
      "cell_type": "code",
      "execution_count": 38,
      "metadata": {
        "id": "8eXbTf-qsgeN",
        "colab": {
          "base_uri": "https://localhost:8080/"
        },
        "outputId": "45b02dce-fbc1-405d-cc68-c7e3cd635c70"
      },
      "outputs": [
        {
          "output_type": "execute_result",
          "data": {
            "text/plain": [
              "0.0"
            ]
          },
          "metadata": {},
          "execution_count": 38
        }
      ],
      "source": [
        "## Your code goes here\n",
        "np.prod(l)**(1/len(l))"
      ]
    },
    {
      "cell_type": "markdown",
      "metadata": {
        "id": "cc9DgKhdsgeN"
      },
      "source": [
        "## b. Geometric Mean of returns.\n",
        "Find the Geometric Mean of the price of Citi bank (C) for the last 5 years."
      ]
    },
    {
      "cell_type": "code",
      "execution_count": 39,
      "metadata": {
        "id": "1zltYeGqsgeN",
        "colab": {
          "base_uri": "https://localhost:8080/"
        },
        "outputId": "4d5c1859-55e5-49ad-84c2-57cbeb0b9090"
      },
      "outputs": [
        {
          "output_type": "stream",
          "name": "stderr",
          "text": [
            "\r[*********************100%%**********************]  1 of 1 completed\n"
          ]
        },
        {
          "output_type": "execute_result",
          "data": {
            "text/plain": [
              "inf"
            ]
          },
          "metadata": {},
          "execution_count": 39
        }
      ],
      "source": [
        "# price = get_pricing('C', fields='open_price', start_date='2005-01-01', end_date='2010-01-01')\n",
        "price = yf.download('C', start='2005-01-01', end='2010-01-01')['Open']\n",
        "## Your code goes here\n",
        "price.prod()**(1/len(price))"
      ]
    },
    {
      "cell_type": "markdown",
      "metadata": {
        "id": "xQxb8vhCsgeN"
      },
      "source": [
        "---"
      ]
    },
    {
      "cell_type": "markdown",
      "metadata": {
        "id": "GWbeqAtRsgeN"
      },
      "source": [
        "# Exercise 5 : Harmonic mean.\n",
        "## a. Harmonic Mean of random data set.\n",
        "Find the harmonic mean of the randomly generated data set `l`."
      ]
    },
    {
      "cell_type": "code",
      "execution_count": 40,
      "metadata": {
        "id": "yw3EaDDIsgeN",
        "colab": {
          "base_uri": "https://localhost:8080/"
        },
        "outputId": "dc7cbd4e-582c-464d-f754-9af255b63fa4"
      },
      "outputs": [
        {
          "output_type": "stream",
          "name": "stdout",
          "text": [
            "11.778998339813258\n",
            "11.778998339813256\n"
          ]
        }
      ],
      "source": [
        "## Your code goes here\n",
        "print(len(l)/np.sum(1/np.array(l)))\n",
        "print(stats.hmean(l))"
      ]
    },
    {
      "cell_type": "markdown",
      "metadata": {
        "id": "mNmQfbjUsgeO"
      },
      "source": [
        "## b. Harmonic Mean of stock returns.\n",
        "Find the Harmonic Mean of the financial ETF (XLF) over the last 2 years."
      ]
    },
    {
      "cell_type": "code",
      "execution_count": 41,
      "metadata": {
        "scrolled": true,
        "id": "fDfDCaZ6sgeO",
        "colab": {
          "base_uri": "https://localhost:8080/"
        },
        "outputId": "38aa9771-2655-448b-95c9-d680b693f355"
      },
      "outputs": [
        {
          "output_type": "stream",
          "name": "stderr",
          "text": [
            "\r[*********************100%%**********************]  1 of 1 completed\n"
          ]
        },
        {
          "output_type": "execute_result",
          "data": {
            "text/plain": [
              "33.47310155095474"
            ]
          },
          "metadata": {},
          "execution_count": 41
        }
      ],
      "source": [
        "## Your code goes here\n",
        "stats.hmean(yf.download('XLF', start='2022-01-01', end='2024-01-01')['Adj Close'])"
      ]
    },
    {
      "cell_type": "markdown",
      "metadata": {
        "id": "YK2KeMwisgeO"
      },
      "source": [
        "----"
      ]
    },
    {
      "cell_type": "markdown",
      "metadata": {
        "id": "YBtV-FFosgeO"
      },
      "source": [
        "# Exercise 6 : Skewness and why it matters.\n",
        "Skewness in a probability distribution is the measure of asymmetry. Negative skew has fewer low values and a longer left tail, whereas positive skew has fewer high values and a longer right tail.\n",
        "In asset pricing, skewness is an important information, naimly in risk assessment. Knowledge that the market has a 60% chance of going down and a 40% chance of going up apears helpfull but only if we know the market is obeying a normal distrubtuion. If we are told that the market will go up 2% but down 18%, we can see how skewness would give us better information.\n",
        "\n",
        "Determine if the returns of SPY from 2010 to 2017 is positivly or negativly skewed.\n",
        "*Recall a data set is positivly skewed if the mode is smaller than the median, which is smaller than the mean. A data set is negativly skewed in the event of the reverse (i.e: the mean is greater than the median, which is greater than the mode)*"
      ]
    },
    {
      "cell_type": "code",
      "execution_count": 42,
      "metadata": {
        "scrolled": false,
        "id": "0bdwlWxysgeP",
        "colab": {
          "base_uri": "https://localhost:8080/"
        },
        "outputId": "84441d88-8290-401e-d3ae-6bda71bf7b4c"
      },
      "outputs": [
        {
          "output_type": "stream",
          "name": "stderr",
          "text": [
            "\r[*********************100%%**********************]  1 of 1 completed"
          ]
        },
        {
          "output_type": "stream",
          "name": "stdout",
          "text": [
            "\n",
            "computing mode using scipy stats: -0.7808940645947395\n",
            "mode: [(-0.17555754526859768, -0.11502389333598351)]\n",
            "median: -0.005713682321975444\n",
            "mean: 0.05584926906572815\n",
            "positively skewed\n"
          ]
        },
        {
          "output_type": "stream",
          "name": "stderr",
          "text": [
            "\n"
          ]
        }
      ],
      "source": [
        "# price = get_pricing('SPY', fields='volume', start_date='2010-01-01', end_date='2017-01-01')\n",
        "price = yf.download('SPY', start='2010-01-01', end='2017-01-01')['Volume']\n",
        "returns = price.pct_change()[1:]\n",
        "\n",
        "## Your code goes here\n",
        "nbins = 50\n",
        "\n",
        "hist, bins = np.histogram(returns, nbins)\n",
        "maxfreq = max(hist)\n",
        "returns_mode = [(bins[i], bins[i+1]) for i, j in enumerate(hist) if j == maxfreq]\n",
        "returns_median = np.median(returns)\n",
        "returns_mean = np.mean(returns)\n",
        "\n",
        "print()\n",
        "print('computing mode using scipy stats:', stats.mode(returns).mode)\n",
        "print('mode:', returns_mode)\n",
        "print('median:', returns_median)\n",
        "print('mean:', returns_mean)\n",
        "\n",
        "if returns_mode[0][1] < returns_median and returns_median < returns_mean:\n",
        "    print('positively skewed')\n",
        "elif returns_mode[0][0] > returns_median and returns_median > returns_mean:\n",
        "    print('negatively skewed')\n",
        "else:\n",
        "    print('neither')\n"
      ]
    },
    {
      "cell_type": "markdown",
      "metadata": {
        "id": "FHEEyEAlsgeP"
      },
      "source": [
        "We can clearly see positive skewing from the histogram of the returns. We see fewer higher values and a longer right tail.\n",
        "Plot the histograms of the returns now."
      ]
    },
    {
      "cell_type": "code",
      "execution_count": 43,
      "metadata": {
        "collapsed": true,
        "id": "mTGxFahSsgeP",
        "colab": {
          "base_uri": "https://localhost:8080/",
          "height": 472
        },
        "outputId": "08b577f3-9fb3-4f17-ee5a-636d7bd6975e"
      },
      "outputs": [
        {
          "output_type": "display_data",
          "data": {
            "text/plain": [
              "<Figure size 640x480 with 1 Axes>"
            ],
            "image/png": "[encoded data removed]"
          },
          "metadata": {}
        }
      ],
      "source": [
        "## Your code here\n",
        "import matplotlib.pyplot as plt\n",
        "\n",
        "plt.hist(returns, bins=nbins);\n",
        "plt.axvline(x=(returns_mode[0][0] + returns_mode[0][1]) / 2, color='b', label='mode')\n",
        "plt.axvline(x=returns_median, color='g', label='median')\n",
        "plt.axvline(x=returns_mean, color='r', label='mean')\n",
        "plt.legend()\n",
        "plt.xlabel('Returns');\n",
        "plt.ylabel('Frequency');\n",
        "plt.title('Histogram of Returns');"
      ]
    },
    {
      "cell_type": "markdown",
      "metadata": {
        "id": "H_1m8axjsgeP"
      },
      "source": [
        "---\n",
        "\n",
        "Congratulations on completing the Means exercises!\n",
        "\n",
        "As you learn more about writing trading algorithms and the Quantopian platform, be sure to check out the daily [Quantopian Contest](https://www.quantopian.com/contest), in which you can compete for a cash prize every day.\n",
        "\n",
        "Start by going through the [Writing a Contest Algorithm](https://www.quantopian.com/tutorials/contest) tutorial."
      ]
    },
    {
      "cell_type": "markdown",
      "metadata": {
        "id": "TU2ZYmuIsgeP"
      },
      "source": [
        "*This presentation is for informational purposes only and does not constitute an offer to sell, a solicitation to buy, or a recommendation for any security; nor does it constitute an offer to provide investment advisory or other services by Quantopian, Inc. (\"Quantopian\"). Nothing contained herein constitutes investment advice or offers any opinion with respect to the suitability of any security, and any views expressed herein should not be taken as advice to buy, sell, or hold any security or as an endorsement of any security or company.  In preparing the information contained herein, Quantopian, Inc. has not taken into account the investment needs, objectives, and financial circumstances of any particular investor. Any views expressed and data illustrated herein were prepared based upon information, believed to be reliable, available to Quantopian, Inc. at the time of publication. Quantopian makes no guarantees as to their accuracy or completeness. All information is subject to change and may quickly become unreliable for various reasons, including changes in market conditions or economic circumstances.*"
      ]
    }
  ],
  "metadata": {
    "kernelspec": {
      "display_name": "Python 3.5",
      "language": "python",
      "name": "py35"
    },
    "language_info": {
      "codemirror_mode": {
        "name": "ipython",
        "version": 3
      },
      "file_extension": ".py",
      "mimetype": "text/x-python",
      "name": "python",
      "nbconvert_exporter": "python",
      "pygments_lexer": "ipython3",
      "version": "3.5.9"
    },
    "colab": {
      "provenance": [],
      "include_colab_link": true
    }
  },
  "nbformat": 4,
  "nbformat_minor": 0
}